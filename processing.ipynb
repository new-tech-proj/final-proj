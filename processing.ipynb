{
 "cells": [
  {
   "cell_type": "code",
   "execution_count": 1,
   "id": "7a761470-146b-41bd-9c59-4221ebb9480c",
   "metadata": {},
   "outputs": [],
   "source": [
    "import pandas as pd\n",
    "import random\n",
    "import numpy as np\n",
    "import concurrent.futures as cf"
   ]
  },
  {
   "cell_type": "code",
   "execution_count": 32,
   "id": "1deaeaf2",
   "metadata": {},
   "outputs": [
    {
     "data": {
      "text/html": [
       "<div>\n",
       "<style scoped>\n",
       "    .dataframe tbody tr th:only-of-type {\n",
       "        vertical-align: middle;\n",
       "    }\n",
       "\n",
       "    .dataframe tbody tr th {\n",
       "        vertical-align: top;\n",
       "    }\n",
       "\n",
       "    .dataframe thead th {\n",
       "        text-align: right;\n",
       "    }\n",
       "</style>\n",
       "<table border=\"1\" class=\"dataframe\">\n",
       "  <thead>\n",
       "    <tr style=\"text-align: right;\">\n",
       "      <th></th>\n",
       "      <th>lecturer_in_charge_id</th>\n",
       "      <th>course_name</th>\n",
       "      <th>total_credit</th>\n",
       "      <th>theory_credit</th>\n",
       "      <th>practice_credit</th>\n",
       "      <th>self_learning_credit</th>\n",
       "    </tr>\n",
       "  </thead>\n",
       "  <tbody>\n",
       "    <tr>\n",
       "      <th>0</th>\n",
       "      <td>1</td>\n",
       "      <td>Toán cao cấp 1</td>\n",
       "      <td>3</td>\n",
       "      <td>3</td>\n",
       "      <td>0</td>\n",
       "      <td>4</td>\n",
       "    </tr>\n",
       "    <tr>\n",
       "      <th>1</th>\n",
       "      <td>1</td>\n",
       "      <td>Giáo dục thể chất 1</td>\n",
       "      <td>5</td>\n",
       "      <td>3</td>\n",
       "      <td>2</td>\n",
       "      <td>5</td>\n",
       "    </tr>\n",
       "    <tr>\n",
       "      <th>2</th>\n",
       "      <td>1</td>\n",
       "      <td>Giáo dục Quốc phòng và An ninh 1</td>\n",
       "      <td>3</td>\n",
       "      <td>1</td>\n",
       "      <td>2</td>\n",
       "      <td>3</td>\n",
       "    </tr>\n",
       "    <tr>\n",
       "      <th>3</th>\n",
       "      <td>1</td>\n",
       "      <td>Nhập môn Tin học</td>\n",
       "      <td>3</td>\n",
       "      <td>3</td>\n",
       "      <td>0</td>\n",
       "      <td>3</td>\n",
       "    </tr>\n",
       "    <tr>\n",
       "      <th>4</th>\n",
       "      <td>1</td>\n",
       "      <td>Nhập môn Lập trình</td>\n",
       "      <td>4</td>\n",
       "      <td>0</td>\n",
       "      <td>4</td>\n",
       "      <td>5</td>\n",
       "    </tr>\n",
       "  </tbody>\n",
       "</table>\n",
       "</div>"
      ],
      "text/plain": [
       "   lecturer_in_charge_id                       course_name  total_credit  \\\n",
       "0                      1                    Toán cao cấp 1             3   \n",
       "1                      1               Giáo dục thể chất 1             5   \n",
       "2                      1  Giáo dục Quốc phòng và An ninh 1             3   \n",
       "3                      1                  Nhập môn Tin học             3   \n",
       "4                      1                Nhập môn Lập trình             4   \n",
       "\n",
       "   theory_credit  practice_credit  self_learning_credit  \n",
       "0              3                0                     4  \n",
       "1              3                2                     5  \n",
       "2              1                2                     3  \n",
       "3              3                0                     3  \n",
       "4              0                4                     5  "
      ]
     },
     "execution_count": 32,
     "metadata": {},
     "output_type": "execute_result"
    }
   ],
   "source": [
    "course = pd.read_csv('data/course.csv')\n",
    "course.head()\n"
   ]
  },
  {
   "cell_type": "code",
   "execution_count": 33,
   "id": "34e4dfea",
   "metadata": {},
   "outputs": [],
   "source": [
    "import random"
   ]
  },
  {
   "cell_type": "code",
   "execution_count": 38,
   "id": "2662fed3",
   "metadata": {},
   "outputs": [
    {
     "data": {
      "text/plain": [
       "range(1, 81)"
      ]
     },
     "execution_count": 38,
     "metadata": {},
     "output_type": "execute_result"
    }
   ],
   "source": []
  },
  {
   "cell_type": "code",
   "execution_count": 40,
   "id": "8d394f57",
   "metadata": {},
   "outputs": [],
   "source": [
    "course['lecturer_in_charge_id'] = random.sample(list(range(1, 81)), k=80)"
   ]
  },
  {
   "cell_type": "code",
   "execution_count": 41,
   "id": "7f942028",
   "metadata": {},
   "outputs": [],
   "source": [
    "course.to_csv('./data/course.csv', index=False, header=True, encoding='utf-8-sig')"
   ]
  },
  {
   "cell_type": "code",
   "execution_count": 29,
   "id": "69aed743",
   "metadata": {},
   "outputs": [],
   "source": [
    "teaching.iloc[:, 1:].to_csv('./data/teaching.csv', index=False, header=True, encoding='utf-8-sig')"
   ]
  },
  {
   "cell_type": "code",
   "execution_count": 18,
   "id": "ffaa64b1",
   "metadata": {},
   "outputs": [],
   "source": [
    "def swap_columns(df, col1, col2):\n",
    "    col_list = list(df.columns)\n",
    "    x, y = col_list.index(col1), col_list.index(col2)\n",
    "    col_list[y], col_list[x] = col_list[x], col_list[y]\n",
    "    df = df[col_list]\n",
    "    return df"
   ]
  },
  {
   "cell_type": "code",
   "execution_count": 21,
   "id": "f761df04",
   "metadata": {},
   "outputs": [],
   "source": [
    "program = swap_columns(program, 'program_semester', 'class_of')"
   ]
  },
  {
   "cell_type": "code",
   "execution_count": 22,
   "id": "27964698",
   "metadata": {},
   "outputs": [
    {
     "data": {
      "text/html": [
       "<div>\n",
       "<style scoped>\n",
       "    .dataframe tbody tr th:only-of-type {\n",
       "        vertical-align: middle;\n",
       "    }\n",
       "\n",
       "    .dataframe tbody tr th {\n",
       "        vertical-align: top;\n",
       "    }\n",
       "\n",
       "    .dataframe thead th {\n",
       "        text-align: right;\n",
       "    }\n",
       "</style>\n",
       "<table border=\"1\" class=\"dataframe\">\n",
       "  <thead>\n",
       "    <tr style=\"text-align: right;\">\n",
       "      <th></th>\n",
       "      <th>program_id</th>\n",
       "      <th>class_of</th>\n",
       "      <th>program_semester</th>\n",
       "      <th>abc_of</th>\n",
       "    </tr>\n",
       "  </thead>\n",
       "  <tbody>\n",
       "    <tr>\n",
       "      <th>0</th>\n",
       "      <td>1</td>\n",
       "      <td>2019-2023</td>\n",
       "      <td>1</td>\n",
       "      <td>a</td>\n",
       "    </tr>\n",
       "    <tr>\n",
       "      <th>1</th>\n",
       "      <td>2</td>\n",
       "      <td>2019-2023</td>\n",
       "      <td>2</td>\n",
       "      <td>a</td>\n",
       "    </tr>\n",
       "    <tr>\n",
       "      <th>2</th>\n",
       "      <td>3</td>\n",
       "      <td>2019-2023</td>\n",
       "      <td>3</td>\n",
       "      <td>a</td>\n",
       "    </tr>\n",
       "    <tr>\n",
       "      <th>3</th>\n",
       "      <td>4</td>\n",
       "      <td>2019-2023</td>\n",
       "      <td>4</td>\n",
       "      <td>a</td>\n",
       "    </tr>\n",
       "    <tr>\n",
       "      <th>4</th>\n",
       "      <td>5</td>\n",
       "      <td>2019-2023</td>\n",
       "      <td>5</td>\n",
       "      <td>a</td>\n",
       "    </tr>\n",
       "  </tbody>\n",
       "</table>\n",
       "</div>"
      ],
      "text/plain": [
       "   program_id   class_of  program_semester abc_of\n",
       "0           1  2019-2023                 1      a\n",
       "1           2  2019-2023                 2      a\n",
       "2           3  2019-2023                 3      a\n",
       "3           4  2019-2023                 4      a\n",
       "4           5  2019-2023                 5      a"
      ]
     },
     "execution_count": 22,
     "metadata": {},
     "output_type": "execute_result"
    }
   ],
   "source": [
    "program.head()"
   ]
  },
  {
   "cell_type": "code",
   "execution_count": 23,
   "id": "4d4c36cf",
   "metadata": {},
   "outputs": [],
   "source": [
    "program_new = program.iloc[:, 1:]"
   ]
  },
  {
   "cell_type": "code",
   "execution_count": 24,
   "id": "ed62015c",
   "metadata": {},
   "outputs": [],
   "source": [
    "program_new.to_csv('./data/program.csv', index=False, header=True, encoding='utf-8-sig')"
   ]
  },
  {
   "cell_type": "code",
   "execution_count": 2,
   "id": "4a74a40f-b1b8-4d86-9aa5-9ba485df350a",
   "metadata": {},
   "outputs": [],
   "source": [
    "address = pd.read_csv('data/address.csv')\n",
    "course = pd.read_csv('data/course.csv')\n",
    "employee = pd.read_csv('data/employee.csv')\n",
    "program = pd.read_csv('data/program.csv')\n",
    "student = pd.read_csv('data/student.csv')\n",
    "lecturer = pd.read_csv('data/lecturer.csv')"
   ]
  },
  {
   "cell_type": "code",
   "execution_count": 3,
   "id": "165d9a29-651d-41f0-99e1-2d767f1c4438",
   "metadata": {},
   "outputs": [
    {
     "name": "stdout",
     "output_type": "stream",
     "text": [
      "['KHDL15', 'HTTT15', 'KTPM15', 'KHMT15', 'CNTT15', 'CNTT16', 'HTTT16', 'KTPM16', 'KHMT16', 'KHDL16']\n"
     ]
    }
   ],
   "source": [
    "mssv_class_names = student.class_name.apply(lambda x: x[:6]).unique().tolist() + ['CNTT15',\n",
    "                                                               'CNTT16', 'HTTT16', 'KTPM16', 'KHMT16', 'KHDL16']\n",
    "print(mssv_class_names)"
   ]
  },
  {
   "cell_type": "code",
   "execution_count": 4,
   "id": "ecaca0a0-6877-461a-8cc3-188c7e07c787",
   "metadata": {},
   "outputs": [
    {
     "name": "stdout",
     "output_type": "stream",
     "text": [
      "['CNTT15', 'CNTT16', 'HTTT15', 'HTTT16', 'KHDL15', 'KHDL16', 'KHMT15', 'KHMT16', 'KTPM15', 'KTPM16']\n"
     ]
    }
   ],
   "source": [
    "mssv_class_names = ['CNTT15', 'CNTT16', 'HTTT15', 'HTTT16', 'KHDL15', 'KHDL16', 'KHMT15', 'KHMT16', 'KTPM15', 'KTPM16']\n",
    "print(mssv_class_names)"
   ]
  },
  {
   "cell_type": "code",
   "execution_count": 5,
   "id": "6679f051-a2d3-4e7c-a350-875b4d7edaeb",
   "metadata": {},
   "outputs": [],
   "source": [
    "class_code = 'ABC'"
   ]
  },
  {
   "cell_type": "code",
   "execution_count": 6,
   "id": "59135341-607d-4499-ab70-6b35e45dc94e",
   "metadata": {},
   "outputs": [],
   "source": [
    "class_name_fakes = [random.choice(mssv_class_names) + random.choice(class_code) for _ in range(student.shape[0])]"
   ]
  },
  {
   "cell_type": "code",
   "execution_count": 7,
   "id": "6ff39834-d94a-428f-a0bb-72c4da71ca9e",
   "metadata": {},
   "outputs": [],
   "source": [
    "student['class_name'] = class_name_fakes"
   ]
  },
  {
   "cell_type": "code",
   "execution_count": 8,
   "id": "9c5698b2-ecb4-4534-9f37-ad37bd420217",
   "metadata": {},
   "outputs": [
    {
     "data": {
      "text/plain": [
       "array([94, 88, 86, 85, 85, 82, 82, 81, 79, 77, 76, 74, 74, 73, 72, 71, 69,\n",
       "       67, 66, 66, 66, 65, 65, 63, 62, 61, 60, 58, 58, 56], dtype=int64)"
      ]
     },
     "execution_count": 8,
     "metadata": {},
     "output_type": "execute_result"
    }
   ],
   "source": [
    "student.class_name.value_counts().values"
   ]
  },
  {
   "cell_type": "code",
   "execution_count": 9,
   "id": "20bf2ba4-2d6d-4b00-98d4-73045636e586",
   "metadata": {},
   "outputs": [],
   "source": [
    "teaching_data = []\n",
    "idx = 1\n",
    "for i, row in course[['course_id', 'semester_id']].iterrows():\n",
    "    course_id, semester_id = row\n",
    "    for program_id in program[program.program_semester == semester_id].program_id.values:\n",
    "        teaching_data.append({'teaching_id': idx, 'course_id': course_id, 'program_id': program_id})\n",
    "        idx += 1\n",
    "teaching_df = pd.DataFrame(teaching_data)\n",
    "teaching_df.to_csv('data/teaching.csv', index=False)"
   ]
  },
  {
   "cell_type": "code",
   "execution_count": 10,
   "id": "69d14597-0d17-4b59-8fa5-a6615ad4eb78",
   "metadata": {},
   "outputs": [
    {
     "data": {
      "text/html": [
       "<div>\n",
       "<style scoped>\n",
       "    .dataframe tbody tr th:only-of-type {\n",
       "        vertical-align: middle;\n",
       "    }\n",
       "\n",
       "    .dataframe tbody tr th {\n",
       "        vertical-align: top;\n",
       "    }\n",
       "\n",
       "    .dataframe thead th {\n",
       "        text-align: right;\n",
       "    }\n",
       "</style>\n",
       "<table border=\"1\" class=\"dataframe\">\n",
       "  <thead>\n",
       "    <tr style=\"text-align: right;\">\n",
       "      <th></th>\n",
       "      <th>course_id</th>\n",
       "      <th>lecturer_in_charge_id</th>\n",
       "      <th>course_name</th>\n",
       "      <th>total_credit</th>\n",
       "      <th>theory_credit</th>\n",
       "      <th>practice_credit</th>\n",
       "      <th>self_learning_credit</th>\n",
       "      <th>major_abbr</th>\n",
       "      <th>name_code</th>\n",
       "      <th>semester_id</th>\n",
       "    </tr>\n",
       "  </thead>\n",
       "  <tbody>\n",
       "    <tr>\n",
       "      <th>0</th>\n",
       "      <td>1</td>\n",
       "      <td>1</td>\n",
       "      <td>Toán cao cấp 1</td>\n",
       "      <td>3</td>\n",
       "      <td>3</td>\n",
       "      <td>0</td>\n",
       "      <td>4</td>\n",
       "      <td>khdl15</td>\n",
       "      <td>2113431</td>\n",
       "      <td>1</td>\n",
       "    </tr>\n",
       "    <tr>\n",
       "      <th>1</th>\n",
       "      <td>2</td>\n",
       "      <td>1</td>\n",
       "      <td>Giáo dục thể chất 1</td>\n",
       "      <td>5</td>\n",
       "      <td>3</td>\n",
       "      <td>2</td>\n",
       "      <td>5</td>\n",
       "      <td>khdl15</td>\n",
       "      <td>2120405</td>\n",
       "      <td>1</td>\n",
       "    </tr>\n",
       "    <tr>\n",
       "      <th>2</th>\n",
       "      <td>3</td>\n",
       "      <td>1</td>\n",
       "      <td>Giáo dục Quốc phòng và An ninh 1</td>\n",
       "      <td>3</td>\n",
       "      <td>1</td>\n",
       "      <td>2</td>\n",
       "      <td>3</td>\n",
       "      <td>khdl15</td>\n",
       "      <td>2120501</td>\n",
       "      <td>1</td>\n",
       "    </tr>\n",
       "    <tr>\n",
       "      <th>3</th>\n",
       "      <td>4</td>\n",
       "      <td>1</td>\n",
       "      <td>Nhập môn Tin học</td>\n",
       "      <td>3</td>\n",
       "      <td>3</td>\n",
       "      <td>0</td>\n",
       "      <td>3</td>\n",
       "      <td>khdl15</td>\n",
       "      <td>2101539</td>\n",
       "      <td>1</td>\n",
       "    </tr>\n",
       "    <tr>\n",
       "      <th>4</th>\n",
       "      <td>5</td>\n",
       "      <td>1</td>\n",
       "      <td>Nhập môn Lập trình</td>\n",
       "      <td>4</td>\n",
       "      <td>0</td>\n",
       "      <td>4</td>\n",
       "      <td>5</td>\n",
       "      <td>khdl15</td>\n",
       "      <td>2101622</td>\n",
       "      <td>1</td>\n",
       "    </tr>\n",
       "  </tbody>\n",
       "</table>\n",
       "</div>"
      ],
      "text/plain": [
       "   course_id  lecturer_in_charge_id                       course_name  \\\n",
       "0          1                      1                    Toán cao cấp 1   \n",
       "1          2                      1               Giáo dục thể chất 1   \n",
       "2          3                      1  Giáo dục Quốc phòng và An ninh 1   \n",
       "3          4                      1                  Nhập môn Tin học   \n",
       "4          5                      1                Nhập môn Lập trình   \n",
       "\n",
       "   total_credit  theory_credit  practice_credit  self_learning_credit  \\\n",
       "0             3              3                0                     4   \n",
       "1             5              3                2                     5   \n",
       "2             3              1                2                     3   \n",
       "3             3              3                0                     3   \n",
       "4             4              0                4                     5   \n",
       "\n",
       "  major_abbr  name_code  semester_id  \n",
       "0     khdl15    2113431            1  \n",
       "1     khdl15    2120405            1  \n",
       "2     khdl15    2120501            1  \n",
       "3     khdl15    2101539            1  \n",
       "4     khdl15    2101622            1  "
      ]
     },
     "execution_count": 10,
     "metadata": {},
     "output_type": "execute_result"
    }
   ],
   "source": [
    "course.head()"
   ]
  },
  {
   "cell_type": "code",
   "execution_count": 11,
   "id": "fa1f3b3a-f32e-4c28-ae44-1bbea36b4826",
   "metadata": {},
   "outputs": [],
   "source": [
    "offering_data = []\n",
    "idx = 1\n",
    "for lecturer_id in range(1, lecturer.shape[0] + 1):\n",
    "    num_course_of_teacher = random.randint(1, 10)\n",
    "    for _, row in course.sample(num_course_of_teacher)[['course_id', 'theory_credit', 'practice_credit']].iterrows():\n",
    "        course_id = row.course_id\n",
    "        is_theory = row.theory_credit > 0\n",
    "        is_practice = row.practice_credit > 0\n",
    "        if is_theory:\n",
    "            offering_data.append({'offering_id': idx, 'lecturer_id': lecturer_id, 'course_id': course_id, 'lecturer_type': 'theoretical'})\n",
    "            idx += 1\n",
    "        if is_practice:\n",
    "            offering_data.append({'offering_id': idx, 'lecturer_id': lecturer_id, 'course_id': course_id, 'lecturer_type': 'practical'})\n",
    "            idx += 1\n",
    "offering_data = pd.DataFrame(offering_data)\n",
    "offering_data.to_csv('data/course_offering.csv', index=False)"
   ]
  },
  {
   "cell_type": "code",
   "execution_count": 12,
   "id": "5f604087-c56c-4fc4-933b-a8c998511970",
   "metadata": {},
   "outputs": [
    {
     "data": {
      "text/html": [
       "<div>\n",
       "<style scoped>\n",
       "    .dataframe tbody tr th:only-of-type {\n",
       "        vertical-align: middle;\n",
       "    }\n",
       "\n",
       "    .dataframe tbody tr th {\n",
       "        vertical-align: top;\n",
       "    }\n",
       "\n",
       "    .dataframe thead th {\n",
       "        text-align: right;\n",
       "    }\n",
       "</style>\n",
       "<table border=\"1\" class=\"dataframe\">\n",
       "  <thead>\n",
       "    <tr style=\"text-align: right;\">\n",
       "      <th></th>\n",
       "      <th>offering_id</th>\n",
       "      <th>lecturer_id</th>\n",
       "      <th>course_id</th>\n",
       "      <th>lecturer_type</th>\n",
       "    </tr>\n",
       "  </thead>\n",
       "  <tbody>\n",
       "    <tr>\n",
       "      <th>0</th>\n",
       "      <td>1</td>\n",
       "      <td>1</td>\n",
       "      <td>48</td>\n",
       "      <td>theoretical</td>\n",
       "    </tr>\n",
       "    <tr>\n",
       "      <th>1</th>\n",
       "      <td>2</td>\n",
       "      <td>1</td>\n",
       "      <td>48</td>\n",
       "      <td>practical</td>\n",
       "    </tr>\n",
       "    <tr>\n",
       "      <th>2</th>\n",
       "      <td>3</td>\n",
       "      <td>1</td>\n",
       "      <td>65</td>\n",
       "      <td>theoretical</td>\n",
       "    </tr>\n",
       "    <tr>\n",
       "      <th>3</th>\n",
       "      <td>4</td>\n",
       "      <td>1</td>\n",
       "      <td>65</td>\n",
       "      <td>practical</td>\n",
       "    </tr>\n",
       "    <tr>\n",
       "      <th>4</th>\n",
       "      <td>5</td>\n",
       "      <td>1</td>\n",
       "      <td>10</td>\n",
       "      <td>theoretical</td>\n",
       "    </tr>\n",
       "    <tr>\n",
       "      <th>...</th>\n",
       "      <td>...</td>\n",
       "      <td>...</td>\n",
       "      <td>...</td>\n",
       "      <td>...</td>\n",
       "    </tr>\n",
       "    <tr>\n",
       "      <th>1601</th>\n",
       "      <td>1602</td>\n",
       "      <td>168</td>\n",
       "      <td>45</td>\n",
       "      <td>theoretical</td>\n",
       "    </tr>\n",
       "    <tr>\n",
       "      <th>1602</th>\n",
       "      <td>1603</td>\n",
       "      <td>168</td>\n",
       "      <td>45</td>\n",
       "      <td>practical</td>\n",
       "    </tr>\n",
       "    <tr>\n",
       "      <th>1603</th>\n",
       "      <td>1604</td>\n",
       "      <td>168</td>\n",
       "      <td>53</td>\n",
       "      <td>theoretical</td>\n",
       "    </tr>\n",
       "    <tr>\n",
       "      <th>1604</th>\n",
       "      <td>1605</td>\n",
       "      <td>168</td>\n",
       "      <td>53</td>\n",
       "      <td>practical</td>\n",
       "    </tr>\n",
       "    <tr>\n",
       "      <th>1605</th>\n",
       "      <td>1606</td>\n",
       "      <td>168</td>\n",
       "      <td>35</td>\n",
       "      <td>theoretical</td>\n",
       "    </tr>\n",
       "  </tbody>\n",
       "</table>\n",
       "<p>1606 rows × 4 columns</p>\n",
       "</div>"
      ],
      "text/plain": [
       "      offering_id  lecturer_id  course_id lecturer_type\n",
       "0               1            1         48   theoretical\n",
       "1               2            1         48     practical\n",
       "2               3            1         65   theoretical\n",
       "3               4            1         65     practical\n",
       "4               5            1         10   theoretical\n",
       "...           ...          ...        ...           ...\n",
       "1601         1602          168         45   theoretical\n",
       "1602         1603          168         45     practical\n",
       "1603         1604          168         53   theoretical\n",
       "1604         1605          168         53     practical\n",
       "1605         1606          168         35   theoretical\n",
       "\n",
       "[1606 rows x 4 columns]"
      ]
     },
     "execution_count": 12,
     "metadata": {},
     "output_type": "execute_result"
    }
   ],
   "source": [
    "offering_data"
   ]
  },
  {
   "cell_type": "code",
   "execution_count": 13,
   "id": "af41349c-69d1-4e24-bb53-54af57862729",
   "metadata": {},
   "outputs": [
    {
     "data": {
      "text/html": [
       "<div>\n",
       "<style scoped>\n",
       "    .dataframe tbody tr th:only-of-type {\n",
       "        vertical-align: middle;\n",
       "    }\n",
       "\n",
       "    .dataframe tbody tr th {\n",
       "        vertical-align: top;\n",
       "    }\n",
       "\n",
       "    .dataframe thead th {\n",
       "        text-align: right;\n",
       "    }\n",
       "</style>\n",
       "<table border=\"1\" class=\"dataframe\">\n",
       "  <thead>\n",
       "    <tr style=\"text-align: right;\">\n",
       "      <th></th>\n",
       "      <th>offering_id</th>\n",
       "      <th>lecturer_id</th>\n",
       "      <th>course_id</th>\n",
       "      <th>lecturer_type</th>\n",
       "    </tr>\n",
       "  </thead>\n",
       "  <tbody>\n",
       "    <tr>\n",
       "      <th>0</th>\n",
       "      <td>1</td>\n",
       "      <td>1</td>\n",
       "      <td>48</td>\n",
       "      <td>theoretical</td>\n",
       "    </tr>\n",
       "    <tr>\n",
       "      <th>1</th>\n",
       "      <td>2</td>\n",
       "      <td>1</td>\n",
       "      <td>48</td>\n",
       "      <td>practical</td>\n",
       "    </tr>\n",
       "    <tr>\n",
       "      <th>2</th>\n",
       "      <td>3</td>\n",
       "      <td>1</td>\n",
       "      <td>65</td>\n",
       "      <td>theoretical</td>\n",
       "    </tr>\n",
       "    <tr>\n",
       "      <th>3</th>\n",
       "      <td>4</td>\n",
       "      <td>1</td>\n",
       "      <td>65</td>\n",
       "      <td>practical</td>\n",
       "    </tr>\n",
       "    <tr>\n",
       "      <th>4</th>\n",
       "      <td>5</td>\n",
       "      <td>1</td>\n",
       "      <td>10</td>\n",
       "      <td>theoretical</td>\n",
       "    </tr>\n",
       "    <tr>\n",
       "      <th>...</th>\n",
       "      <td>...</td>\n",
       "      <td>...</td>\n",
       "      <td>...</td>\n",
       "      <td>...</td>\n",
       "    </tr>\n",
       "    <tr>\n",
       "      <th>1601</th>\n",
       "      <td>1602</td>\n",
       "      <td>168</td>\n",
       "      <td>45</td>\n",
       "      <td>theoretical</td>\n",
       "    </tr>\n",
       "    <tr>\n",
       "      <th>1602</th>\n",
       "      <td>1603</td>\n",
       "      <td>168</td>\n",
       "      <td>45</td>\n",
       "      <td>practical</td>\n",
       "    </tr>\n",
       "    <tr>\n",
       "      <th>1603</th>\n",
       "      <td>1604</td>\n",
       "      <td>168</td>\n",
       "      <td>53</td>\n",
       "      <td>theoretical</td>\n",
       "    </tr>\n",
       "    <tr>\n",
       "      <th>1604</th>\n",
       "      <td>1605</td>\n",
       "      <td>168</td>\n",
       "      <td>53</td>\n",
       "      <td>practical</td>\n",
       "    </tr>\n",
       "    <tr>\n",
       "      <th>1605</th>\n",
       "      <td>1606</td>\n",
       "      <td>168</td>\n",
       "      <td>35</td>\n",
       "      <td>theoretical</td>\n",
       "    </tr>\n",
       "  </tbody>\n",
       "</table>\n",
       "<p>1606 rows × 4 columns</p>\n",
       "</div>"
      ],
      "text/plain": [
       "      offering_id  lecturer_id  course_id lecturer_type\n",
       "0               1            1         48   theoretical\n",
       "1               2            1         48     practical\n",
       "2               3            1         65   theoretical\n",
       "3               4            1         65     practical\n",
       "4               5            1         10   theoretical\n",
       "...           ...          ...        ...           ...\n",
       "1601         1602          168         45   theoretical\n",
       "1602         1603          168         45     practical\n",
       "1603         1604          168         53   theoretical\n",
       "1604         1605          168         53     practical\n",
       "1605         1606          168         35   theoretical\n",
       "\n",
       "[1606 rows x 4 columns]"
      ]
     },
     "metadata": {},
     "output_type": "display_data"
    }
   ],
   "source": [
    "display(offering_data)"
   ]
  },
  {
   "cell_type": "code",
   "execution_count": 14,
   "id": "3b094a0d-669a-454d-940a-7073201a5ebd",
   "metadata": {},
   "outputs": [
    {
     "data": {
      "text/plain": [
       "array([ 0. ,  0.5,  1. ,  1.5,  2. ,  2.5,  3. ,  3.5,  4. ,  4.5,  5. ,\n",
       "        5.5,  6. ,  6.5,  7. ,  7.5,  8. ,  8.5,  9. ,  9.5, 10. ])"
      ]
     },
     "execution_count": 14,
     "metadata": {},
     "output_type": "execute_result"
    }
   ],
   "source": [
    "score_range = np.linspace(0, 10, 21)\n",
    "score_range"
   ]
  },
  {
   "cell_type": "code",
   "execution_count": 15,
   "id": "2d2c0305-2268-4694-838a-8391c49a9853",
   "metadata": {},
   "outputs": [
    {
     "data": {
      "text/plain": [
       "True"
      ]
     },
     "execution_count": 15,
     "metadata": {},
     "output_type": "execute_result"
    }
   ],
   "source": [
    "0.05 > 0.025"
   ]
  },
  {
   "cell_type": "code",
   "execution_count": 16,
   "id": "2420e6d0-25a6-4f38-a06b-2a07af2e604f",
   "metadata": {},
   "outputs": [
    {
     "data": {
      "text/plain": [
       "0.425"
      ]
     },
     "execution_count": 16,
     "metadata": {},
     "output_type": "execute_result"
    }
   ],
   "source": [
    "0.4 + 0.05 - 0.025"
   ]
  },
  {
   "cell_type": "code",
   "execution_count": 17,
   "id": "cc64faf5-995e-4629-a6ea-089af91bf08a",
   "metadata": {},
   "outputs": [
    {
     "data": {
      "text/plain": [
       "0.02"
      ]
     },
     "execution_count": 17,
     "metadata": {},
     "output_type": "execute_result"
    }
   ],
   "source": [
    "0.025 - 0.005"
   ]
  },
  {
   "cell_type": "code",
   "execution_count": 18,
   "id": "ea68ccb6-8191-48df-8a2c-79837bae1832",
   "metadata": {
    "tags": []
   },
   "outputs": [],
   "source": [
    "score_dist = {\n",
    "    (0, 0.5, 1, 1.5, 2): 0.005,\n",
    "    (2.5, 3, 3.5, 4, 4.5): 0.1,\n",
    "    (5, 5.5, 6, 6.5, 7): 0.425,\n",
    "    (7.5, 8, 8.5): 0.27,\n",
    "    (9, 9.5, 10): 0.2\n",
    "}"
   ]
  },
  {
   "cell_type": "code",
   "execution_count": 19,
   "id": "7af69c09-472a-4458-bf69-e01f1c6bb7d3",
   "metadata": {},
   "outputs": [
    {
     "data": {
      "text/plain": [
       "array([0.001     , 0.001     , 0.001     , 0.001     , 0.001     ,\n",
       "       0.02      , 0.02      , 0.02      , 0.02      , 0.02      ,\n",
       "       0.085     , 0.085     , 0.085     , 0.085     , 0.085     ,\n",
       "       0.09      , 0.09      , 0.09      , 0.06666667, 0.06666667,\n",
       "       0.06666667])"
      ]
     },
     "execution_count": 19,
     "metadata": {},
     "output_type": "execute_result"
    }
   ],
   "source": [
    "dist = []\n",
    "for key, val in score_dist.items():\n",
    "    for k in key:\n",
    "        dist.append(val / len(key))\n",
    "dist = np.array(dist)\n",
    "dist"
   ]
  },
  {
   "cell_type": "code",
   "execution_count": 20,
   "id": "b1ff5479-e0eb-41a9-9727-842a53d3bc12",
   "metadata": {},
   "outputs": [
    {
     "ename": "NameError",
     "evalue": "name 'plt' is not defined",
     "output_type": "error",
     "traceback": [
      "\u001b[1;31m---------------------------------------------------------------------------\u001b[0m",
      "\u001b[1;31mNameError\u001b[0m                                 Traceback (most recent call last)",
      "\u001b[1;32md:\\final_project\\final-proj\\processing.ipynb Cell 20\u001b[0m in \u001b[0;36m<cell line: 1>\u001b[1;34m()\u001b[0m\n\u001b[1;32m----> <a href='vscode-notebook-cell:/d%3A/final_project/final-proj/processing.ipynb#X25sZmlsZQ%3D%3D?line=0'>1</a>\u001b[0m plt\u001b[39m.\u001b[39mplot(dist)\n",
      "\u001b[1;31mNameError\u001b[0m: name 'plt' is not defined"
     ]
    }
   ],
   "source": [
    "plt.plot(dist)"
   ]
  },
  {
   "cell_type": "code",
   "execution_count": 21,
   "id": "44a3ab47-04d2-4000-b649-49c36bccac95",
   "metadata": {},
   "outputs": [
    {
     "data": {
      "text/html": [
       "<div>\n",
       "<style scoped>\n",
       "    .dataframe tbody tr th:only-of-type {\n",
       "        vertical-align: middle;\n",
       "    }\n",
       "\n",
       "    .dataframe tbody tr th {\n",
       "        vertical-align: top;\n",
       "    }\n",
       "\n",
       "    .dataframe thead th {\n",
       "        text-align: right;\n",
       "    }\n",
       "</style>\n",
       "<table border=\"1\" class=\"dataframe\">\n",
       "  <thead>\n",
       "    <tr style=\"text-align: right;\">\n",
       "      <th></th>\n",
       "      <th>offering_id</th>\n",
       "      <th>lecturer_id</th>\n",
       "      <th>course_id</th>\n",
       "      <th>lecturer_type</th>\n",
       "    </tr>\n",
       "  </thead>\n",
       "  <tbody>\n",
       "    <tr>\n",
       "      <th>832</th>\n",
       "      <td>833</td>\n",
       "      <td>85</td>\n",
       "      <td>44</td>\n",
       "      <td>practical</td>\n",
       "    </tr>\n",
       "  </tbody>\n",
       "</table>\n",
       "</div>"
      ],
      "text/plain": [
       "     offering_id  lecturer_id  course_id lecturer_type\n",
       "832          833           85         44     practical"
      ]
     },
     "execution_count": 21,
     "metadata": {},
     "output_type": "execute_result"
    }
   ],
   "source": [
    "offering_data.sample(1)"
   ]
  },
  {
   "cell_type": "code",
   "execution_count": 353,
   "id": "43d814d9-10fa-4b41-ac66-82a52891f2ef",
   "metadata": {},
   "outputs": [
    {
     "data": {
      "text/html": [
       "<div>\n",
       "<style scoped>\n",
       "    .dataframe tbody tr th:only-of-type {\n",
       "        vertical-align: middle;\n",
       "    }\n",
       "\n",
       "    .dataframe tbody tr th {\n",
       "        vertical-align: top;\n",
       "    }\n",
       "\n",
       "    .dataframe thead th {\n",
       "        text-align: right;\n",
       "    }\n",
       "</style>\n",
       "<table border=\"1\" class=\"dataframe\">\n",
       "  <thead>\n",
       "    <tr style=\"text-align: right;\">\n",
       "      <th></th>\n",
       "      <th>offering_id</th>\n",
       "      <th>lecturer_id</th>\n",
       "      <th>course_id</th>\n",
       "      <th>lecturer_type</th>\n",
       "    </tr>\n",
       "  </thead>\n",
       "  <tbody>\n",
       "    <tr>\n",
       "      <th>1</th>\n",
       "      <td>2</td>\n",
       "      <td>1</td>\n",
       "      <td>57</td>\n",
       "      <td>practical</td>\n",
       "    </tr>\n",
       "    <tr>\n",
       "      <th>3</th>\n",
       "      <td>4</td>\n",
       "      <td>1</td>\n",
       "      <td>61</td>\n",
       "      <td>practical</td>\n",
       "    </tr>\n",
       "    <tr>\n",
       "      <th>5</th>\n",
       "      <td>6</td>\n",
       "      <td>1</td>\n",
       "      <td>45</td>\n",
       "      <td>practical</td>\n",
       "    </tr>\n",
       "    <tr>\n",
       "      <th>8</th>\n",
       "      <td>9</td>\n",
       "      <td>1</td>\n",
       "      <td>55</td>\n",
       "      <td>practical</td>\n",
       "    </tr>\n",
       "    <tr>\n",
       "      <th>10</th>\n",
       "      <td>11</td>\n",
       "      <td>1</td>\n",
       "      <td>44</td>\n",
       "      <td>practical</td>\n",
       "    </tr>\n",
       "    <tr>\n",
       "      <th>...</th>\n",
       "      <td>...</td>\n",
       "      <td>...</td>\n",
       "      <td>...</td>\n",
       "      <td>...</td>\n",
       "    </tr>\n",
       "    <tr>\n",
       "      <th>1482</th>\n",
       "      <td>1483</td>\n",
       "      <td>165</td>\n",
       "      <td>14</td>\n",
       "      <td>practical</td>\n",
       "    </tr>\n",
       "    <tr>\n",
       "      <th>1484</th>\n",
       "      <td>1485</td>\n",
       "      <td>165</td>\n",
       "      <td>42</td>\n",
       "      <td>practical</td>\n",
       "    </tr>\n",
       "    <tr>\n",
       "      <th>1486</th>\n",
       "      <td>1487</td>\n",
       "      <td>166</td>\n",
       "      <td>61</td>\n",
       "      <td>practical</td>\n",
       "    </tr>\n",
       "    <tr>\n",
       "      <th>1488</th>\n",
       "      <td>1489</td>\n",
       "      <td>167</td>\n",
       "      <td>69</td>\n",
       "      <td>practical</td>\n",
       "    </tr>\n",
       "    <tr>\n",
       "      <th>1490</th>\n",
       "      <td>1491</td>\n",
       "      <td>168</td>\n",
       "      <td>47</td>\n",
       "      <td>practical</td>\n",
       "    </tr>\n",
       "  </tbody>\n",
       "</table>\n",
       "<p>654 rows × 4 columns</p>\n",
       "</div>"
      ],
      "text/plain": [
       "      offering_id  lecturer_id  course_id lecturer_type\n",
       "1               2            1         57     practical\n",
       "3               4            1         61     practical\n",
       "5               6            1         45     practical\n",
       "8               9            1         55     practical\n",
       "10             11            1         44     practical\n",
       "...           ...          ...        ...           ...\n",
       "1482         1483          165         14     practical\n",
       "1484         1485          165         42     practical\n",
       "1486         1487          166         61     practical\n",
       "1488         1489          167         69     practical\n",
       "1490         1491          168         47     practical\n",
       "\n",
       "[654 rows x 4 columns]"
      ]
     },
     "execution_count": 353,
     "metadata": {},
     "output_type": "execute_result"
    }
   ],
   "source": [
    "offering_data[offering_data.lecturer_type == 'practical']"
   ]
  },
  {
   "cell_type": "code",
   "execution_count": 391,
   "id": "07266bfc-cb10-47cf-ab56-5e1454830f2f",
   "metadata": {},
   "outputs": [],
   "source": [
    "score_type_theory = ['tk_1', 'tk_2', 'tk_3', 'gk', 'ck']\n",
    "score_type_practice = ['th_1', 'th_2', 'th_3']\n",
    "    \n",
    "def generate_score_data(student_id):\n",
    "    score_data = []\n",
    "    \n",
    "    num_offering_take = random.randint(1, 60)\n",
    "    theoretical_sample = offering_data[offering_data['lecturer_type'] == 'theoretical'].sample(num_offering_take)\n",
    "    \n",
    "    offering_id = theoretical_sample.offering_id\n",
    "    lecturer_id = theoretical_sample.lecturer_id\n",
    "    course_id = theoretical_sample.course_id\n",
    "    \n",
    "    theoretical_scores = np.random.choice(score_range, p=dist, size=len(offering_id) * len(score_type_theory))\n",
    "    theoretical_scores = theoretical_scores.reshape(offering_id.shape[0], len(score_type_theory))\n",
    "    \n",
    "    for i, off_id in enumerate(offering_id):\n",
    "        for j, score_type in enumerate(score_type_theory):\n",
    "            score_data.append({'student_id': student_id,\n",
    "                               'offering_id': off_id,\n",
    "                               'score': theoretical_scores[i, j],\n",
    "                               'score_type': score_type})\n",
    "    \n",
    "    for lec_id, cor_id in zip(lecturer_id, course_id):\n",
    "        prac_sample = offering_data[(offering_data.lecturer_id == lec_id) &\n",
    "                                    (offering_data.course_id == cor_id) &\n",
    "                                    (offering_data.lecturer_type == 'practical')]\n",
    "        if prac_sample.shape[0] == 1:\n",
    "            practical_scores = np.random.choice(score_range, p=dist, size=len(score_type_practice))\n",
    "            for i, score_type in enumerate(score_type_practice):\n",
    "                score_data.append({'student_id': student_id,\n",
    "                                   'offering_id': prac_sample.offering_id.values[0],\n",
    "                                   'score': practical_scores[i],\n",
    "                                   'score_type': score_type})\n",
    "                \n",
    "    return score_data"
   ]
  },
  {
   "cell_type": "code",
   "execution_count": 407,
   "id": "5f2f7921-eb47-4b09-ba1e-bb2dcd94c885",
   "metadata": {},
   "outputs": [],
   "source": [
    "student_id_list = student.mssv.values.tolist()\n",
    "with cf.ThreadPoolExecutor(max_workers=8) as exe:\n",
    "    score_data = list(exe.map(generate_score_data, student_id_list))"
   ]
  },
  {
   "cell_type": "code",
   "execution_count": 413,
   "id": "20599014-a139-4e22-99c9-e6c551a89be9",
   "metadata": {},
   "outputs": [
    {
     "data": {
      "text/plain": [
       "479858"
      ]
     },
     "execution_count": 413,
     "metadata": {},
     "output_type": "execute_result"
    }
   ],
   "source": [
    "score_data = [j for i in score_data for j in i]\n",
    "len(score_data)"
   ]
  },
  {
   "cell_type": "code",
   "execution_count": 414,
   "id": "221c7dee-471b-4084-a3ec-68f193223279",
   "metadata": {},
   "outputs": [
    {
     "data": {
      "text/html": [
       "<div>\n",
       "<style scoped>\n",
       "    .dataframe tbody tr th:only-of-type {\n",
       "        vertical-align: middle;\n",
       "    }\n",
       "\n",
       "    .dataframe tbody tr th {\n",
       "        vertical-align: top;\n",
       "    }\n",
       "\n",
       "    .dataframe thead th {\n",
       "        text-align: right;\n",
       "    }\n",
       "</style>\n",
       "<table border=\"1\" class=\"dataframe\">\n",
       "  <thead>\n",
       "    <tr style=\"text-align: right;\">\n",
       "      <th></th>\n",
       "      <th>student_id</th>\n",
       "      <th>offering_id</th>\n",
       "      <th>score</th>\n",
       "      <th>score_type</th>\n",
       "    </tr>\n",
       "  </thead>\n",
       "  <tbody>\n",
       "    <tr>\n",
       "      <th>0</th>\n",
       "      <td>19333301</td>\n",
       "      <td>163</td>\n",
       "      <td>6.0</td>\n",
       "      <td>tk_1</td>\n",
       "    </tr>\n",
       "    <tr>\n",
       "      <th>1</th>\n",
       "      <td>19333301</td>\n",
       "      <td>163</td>\n",
       "      <td>5.5</td>\n",
       "      <td>tk_2</td>\n",
       "    </tr>\n",
       "    <tr>\n",
       "      <th>2</th>\n",
       "      <td>19333301</td>\n",
       "      <td>163</td>\n",
       "      <td>9.5</td>\n",
       "      <td>tk_3</td>\n",
       "    </tr>\n",
       "    <tr>\n",
       "      <th>3</th>\n",
       "      <td>19333301</td>\n",
       "      <td>163</td>\n",
       "      <td>5.0</td>\n",
       "      <td>gk</td>\n",
       "    </tr>\n",
       "    <tr>\n",
       "      <th>4</th>\n",
       "      <td>19333301</td>\n",
       "      <td>163</td>\n",
       "      <td>3.0</td>\n",
       "      <td>ck</td>\n",
       "    </tr>\n",
       "    <tr>\n",
       "      <th>...</th>\n",
       "      <td>...</td>\n",
       "      <td>...</td>\n",
       "      <td>...</td>\n",
       "      <td>...</td>\n",
       "    </tr>\n",
       "    <tr>\n",
       "      <th>479853</th>\n",
       "      <td>19354901</td>\n",
       "      <td>835</td>\n",
       "      <td>6.0</td>\n",
       "      <td>th_2</td>\n",
       "    </tr>\n",
       "    <tr>\n",
       "      <th>479854</th>\n",
       "      <td>19354901</td>\n",
       "      <td>835</td>\n",
       "      <td>9.0</td>\n",
       "      <td>th_3</td>\n",
       "    </tr>\n",
       "    <tr>\n",
       "      <th>479855</th>\n",
       "      <td>19354901</td>\n",
       "      <td>50</td>\n",
       "      <td>7.0</td>\n",
       "      <td>th_1</td>\n",
       "    </tr>\n",
       "    <tr>\n",
       "      <th>479856</th>\n",
       "      <td>19354901</td>\n",
       "      <td>50</td>\n",
       "      <td>10.0</td>\n",
       "      <td>th_2</td>\n",
       "    </tr>\n",
       "    <tr>\n",
       "      <th>479857</th>\n",
       "      <td>19354901</td>\n",
       "      <td>50</td>\n",
       "      <td>7.5</td>\n",
       "      <td>th_3</td>\n",
       "    </tr>\n",
       "  </tbody>\n",
       "</table>\n",
       "<p>479858 rows × 4 columns</p>\n",
       "</div>"
      ],
      "text/plain": [
       "        student_id  offering_id  score score_type\n",
       "0         19333301          163    6.0       tk_1\n",
       "1         19333301          163    5.5       tk_2\n",
       "2         19333301          163    9.5       tk_3\n",
       "3         19333301          163    5.0         gk\n",
       "4         19333301          163    3.0         ck\n",
       "...            ...          ...    ...        ...\n",
       "479853    19354901          835    6.0       th_2\n",
       "479854    19354901          835    9.0       th_3\n",
       "479855    19354901           50    7.0       th_1\n",
       "479856    19354901           50   10.0       th_2\n",
       "479857    19354901           50    7.5       th_3\n",
       "\n",
       "[479858 rows x 4 columns]"
      ]
     },
     "execution_count": 414,
     "metadata": {},
     "output_type": "execute_result"
    }
   ],
   "source": [
    "score_df = pd.DataFrame(score_data)\n",
    "score_df"
   ]
  },
  {
   "cell_type": "code",
   "execution_count": 415,
   "id": "1aae6931-50d6-4538-bc15-1de47dae57da",
   "metadata": {},
   "outputs": [
    {
     "data": {
      "text/plain": [
       "<AxesSubplot:ylabel='Frequency'>"
      ]
     },
     "execution_count": 415,
     "metadata": {},
     "output_type": "execute_result"
    },
    {
     "data": {
      "image/png": "[encoded data removed]",
      "text/plain": [
       "<Figure size 432x288 with 1 Axes>"
      ]
     },
     "metadata": {
      "needs_background": "light"
     },
     "output_type": "display_data"
    }
   ],
   "source": [
    "score_df.score.plot(kind='hist')"
   ]
  },
  {
   "cell_type": "code",
   "execution_count": 416,
   "id": "550fe723-6fc1-4bfb-a23c-963fb124ddcf",
   "metadata": {},
   "outputs": [],
   "source": [
    "score_df.to_csv('data/score.csv', index=False)"
   ]
  },
  {
   "cell_type": "markdown",
   "id": "0e82959d-1741-44af-b811-1523ab0888c0",
   "metadata": {},
   "source": [
    "---"
   ]
  },
  {
   "cell_type": "code",
   "execution_count": null,
   "id": "4c3a2a8a-6ec2-4031-8c91-70d566702613",
   "metadata": {},
   "outputs": [],
   "source": []
  }
 ],
 "metadata": {
  "kernelspec": {
   "display_name": "base",
   "language": "python",
   "name": "python3"
  },
  "language_info": {
   "codemirror_mode": {
    "name": "ipython",
    "version": 3
   },
   "file_extension": ".py",
   "mimetype": "text/x-python",
   "name": "python",
   "nbconvert_exporter": "python",
   "pygments_lexer": "ipython3",
   "version": "3.9.13"
  },
  "vscode": {
   "interpreter": {
    "hash": "f4a3e27c0ad9ffa4d52659be53eb1e1ac285998077df638597a9f56a02c65f2e"
   }
  }
 },
 "nbformat": 4,
 "nbformat_minor": 5
}
