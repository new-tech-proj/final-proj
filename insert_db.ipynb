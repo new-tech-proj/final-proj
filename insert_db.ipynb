{
 "cells": [
  {
   "cell_type": "code",
   "execution_count": 1,
   "id": "1511bc54-d2b3-485f-8393-f4af21dfcd4f",
   "metadata": {},
   "outputs": [],
   "source": [
    "import pandas as pd"
   ]
  },
  {
   "cell_type": "code",
   "execution_count": 2,
   "id": "66c14d8e-ea1d-4185-aecc-8756d97ac6e2",
   "metadata": {},
   "outputs": [],
   "source": [
    "address = pd.read_csv('data/address.csv')\n",
    "course = pd.read_csv('data/course.csv')\n",
    "employee = pd.read_csv('data/employee.csv')\n",
    "program = pd.read_csv('data/program.csv')\n",
    "student = pd.read_csv('data/student.csv')\n",
    "lecturer = pd.read_csv('data/lecturer.csv')\n",
    "course_offering = pd.read_csv('data/course_offering.csv')\n",
    "score = pd.read_csv('data/score.csv')\n",
    "teaching = pd.read_csv('data/teaching.csv')"
   ]
  },
  {
   "cell_type": "markdown",
   "id": "e9559462-3676-477e-96d4-519c82232173",
   "metadata": {},
   "source": [
    "**address -> employee -> student -> lecturer -> course -> program -> teaching -> course_offering -> score**"
   ]
  },
  {
   "cell_type": "code",
   "execution_count": 3,
   "id": "801660a3-0a9d-4d92-96fc-a474bc65b41e",
   "metadata": {},
   "outputs": [],
   "source": [
    "def insert_row(table, data):\n",
    "    return f'INSERT INTO {table} VALUES{tuple(data)};'"
   ]
  },
  {
   "cell_type": "code",
   "execution_count": 4,
   "id": "3c7f6729-5a8f-4039-97f2-d0cd32c483d5",
   "metadata": {},
   "outputs": [],
   "source": [
    "sql = []\n",
    "\n",
    "for idx, (_, row) in enumerate(address.iterrows(), start=1):\n",
    "    data = [idx] + row.values.tolist()\n",
    "    sql.append(insert_row('address', data))\n",
    "\n",
    "for idx, row in employee.iterrows():\n",
    "    data = [idx] + row.values.tolist()\n",
    "    sql.append(insert_row('employee', data))\n",
    "    \n",
    "for _, row in student.iterrows():\n",
    "    data = row.values.tolist()\n",
    "    sql.append(insert_row('student', data))\n",
    "\n",
    "for _, row in lecturer.iterrows():\n",
    "    data = row.values.tolist()\n",
    "    sql.append(insert_row('lecturer', data))\n",
    "    \n",
    "for _, row in course.iterrows():\n",
    "    data = row.values.tolist()\n",
    "    sql.append(insert_row('course', data))\n",
    "\n",
    "for _, row in program.iterrows():\n",
    "    data = row.values.tolist()\n",
    "    sql.append(insert_row('program', data))\n",
    "    \n",
    "for _, row in teaching.iterrows():\n",
    "    data = row.values.tolist()\n",
    "    sql.append(insert_row('teaching', data))\n",
    "    \n",
    "for _, row in program.iterrows():\n",
    "    data = row.values.tolist()\n",
    "    sql.append(insert_row('program', data))\n",
    "    \n",
    "for _, row in course_offering.iterrows():\n",
    "    data = row.values.tolist()\n",
    "    sql.append(insert_row('course_offering', data))\n",
    "    \n",
    "for _, row in score.iterrows():\n",
    "    data = row.values.tolist()\n",
    "    sql.append(insert_row('score', data))"
   ]
  },
  {
   "cell_type": "code",
   "execution_count": 5,
   "id": "9e9809ca-1bf5-4e26-aaba-fe3ddf2ca1bc",
   "metadata": {},
   "outputs": [
    {
     "data": {
      "text/plain": [
       "484942"
      ]
     },
     "execution_count": 5,
     "metadata": {},
     "output_type": "execute_result"
    }
   ],
   "source": [
    "len(sql)"
   ]
  },
  {
   "cell_type": "code",
   "execution_count": 7,
   "id": "48b314ba-a83e-4357-8e41-30757e1a578f",
   "metadata": {},
   "outputs": [],
   "source": [
    "with open('sql/insert_db.sql', 'w', encoding='utf-8') as f:\n",
    "    f.write('\\n'.join(sql))"
   ]
  },
  {
   "cell_type": "code",
   "execution_count": null,
   "id": "ce687cdf",
   "metadata": {},
   "outputs": [],
   "source": []
  }
 ],
 "metadata": {
  "kernelspec": {
   "display_name": "base",
   "language": "python",
   "name": "python3"
  },
  "language_info": {
   "codemirror_mode": {
    "name": "ipython",
    "version": 3
   },
   "file_extension": ".py",
   "mimetype": "text/x-python",
   "name": "python",
   "nbconvert_exporter": "python",
   "pygments_lexer": "ipython3",
   "version": "3.9.12"
  },
  "vscode": {
   "interpreter": {
    "hash": "4124fcfc55ba4a91d3296fc22de9f1100c30b2e7d08a648811aeda51ded4fed1"
   }
  }
 },
 "nbformat": 4,
 "nbformat_minor": 5
}
