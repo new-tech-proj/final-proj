{
 "cells": [
  {
   "cell_type": "code",
   "execution_count": 1,
   "id": "1511bc54-d2b3-485f-8393-f4af21dfcd4f",
   "metadata": {},
   "outputs": [],
   "source": [
    "import pandas as pd"
   ]
  },
  {
   "attachments": {},
   "cell_type": "markdown",
   "id": "45838d62",
   "metadata": {},
   "source": [
    "## Address"
   ]
  },
  {
   "cell_type": "code",
   "execution_count": 2,
   "id": "bd8171f0",
   "metadata": {},
   "outputs": [
    {
     "data": {
      "text/html": [
       "<div>\n",
       "<style scoped>\n",
       "    .dataframe tbody tr th:only-of-type {\n",
       "        vertical-align: middle;\n",
       "    }\n",
       "\n",
       "    .dataframe tbody tr th {\n",
       "        vertical-align: top;\n",
       "    }\n",
       "\n",
       "    .dataframe thead th {\n",
       "        text-align: right;\n",
       "    }\n",
       "</style>\n",
       "<table border=\"1\" class=\"dataframe\">\n",
       "  <thead>\n",
       "    <tr style=\"text-align: right;\">\n",
       "      <th></th>\n",
       "      <th>ward</th>\n",
       "      <th>district</th>\n",
       "      <th>city</th>\n",
       "    </tr>\n",
       "  </thead>\n",
       "  <tbody>\n",
       "    <tr>\n",
       "      <th>0</th>\n",
       "      <td>An Phú Tây</td>\n",
       "      <td>Bình Chánh</td>\n",
       "      <td>Hồ Chí Minh</td>\n",
       "    </tr>\n",
       "    <tr>\n",
       "      <th>1</th>\n",
       "      <td>Bình Chánh</td>\n",
       "      <td>Bình Chánh</td>\n",
       "      <td>Hồ Chí Minh</td>\n",
       "    </tr>\n",
       "    <tr>\n",
       "      <th>2</th>\n",
       "      <td>Bình Hưng</td>\n",
       "      <td>Bình Chánh</td>\n",
       "      <td>Hồ Chí Minh</td>\n",
       "    </tr>\n",
       "    <tr>\n",
       "      <th>3</th>\n",
       "      <td>Bình Lợi</td>\n",
       "      <td>Bình Chánh</td>\n",
       "      <td>Hồ Chí Minh</td>\n",
       "    </tr>\n",
       "    <tr>\n",
       "      <th>4</th>\n",
       "      <td>Đa Phước</td>\n",
       "      <td>Bình Chánh</td>\n",
       "      <td>Hồ Chí Minh</td>\n",
       "    </tr>\n",
       "  </tbody>\n",
       "</table>\n",
       "</div>"
      ],
      "text/plain": [
       "         ward    district         city\n",
       "0  An Phú Tây  Bình Chánh  Hồ Chí Minh\n",
       "1  Bình Chánh  Bình Chánh  Hồ Chí Minh\n",
       "2   Bình Hưng  Bình Chánh  Hồ Chí Minh\n",
       "3    Bình Lợi  Bình Chánh  Hồ Chí Minh\n",
       "4    Đa Phước  Bình Chánh  Hồ Chí Minh"
      ]
     },
     "execution_count": 2,
     "metadata": {},
     "output_type": "execute_result"
    }
   ],
   "source": [
    "address = pd.read_csv('data/address.csv')\n",
    "address.head()"
   ]
  },
  {
   "cell_type": "code",
   "execution_count": 3,
   "id": "b6e2c155",
   "metadata": {},
   "outputs": [
    {
     "name": "stdout",
     "output_type": "stream",
     "text": [
      "<class 'pandas.core.frame.DataFrame'>\n",
      "RangeIndex: 322 entries, 0 to 321\n",
      "Data columns (total 3 columns):\n",
      " #   Column    Non-Null Count  Dtype \n",
      "---  ------    --------------  ----- \n",
      " 0   ward      322 non-null    object\n",
      " 1   district  322 non-null    object\n",
      " 2   city      322 non-null    object\n",
      "dtypes: object(3)\n",
      "memory usage: 7.7+ KB\n"
     ]
    }
   ],
   "source": [
    "address.info()"
   ]
  },
  {
   "attachments": {},
   "cell_type": "markdown",
   "id": "fb20b931",
   "metadata": {},
   "source": [
    "## Employee"
   ]
  },
  {
   "cell_type": "code",
   "execution_count": 4,
   "id": "1f7656b6",
   "metadata": {},
   "outputs": [
    {
     "data": {
      "text/html": [
       "<div>\n",
       "<style scoped>\n",
       "    .dataframe tbody tr th:only-of-type {\n",
       "        vertical-align: middle;\n",
       "    }\n",
       "\n",
       "    .dataframe tbody tr th {\n",
       "        vertical-align: top;\n",
       "    }\n",
       "\n",
       "    .dataframe thead th {\n",
       "        text-align: right;\n",
       "    }\n",
       "</style>\n",
       "<table border=\"1\" class=\"dataframe\">\n",
       "  <thead>\n",
       "    <tr style=\"text-align: right;\">\n",
       "      <th></th>\n",
       "      <th>name</th>\n",
       "      <th>date_of_birth</th>\n",
       "      <th>nationality</th>\n",
       "      <th>national_id</th>\n",
       "      <th>insurance_id</th>\n",
       "    </tr>\n",
       "  </thead>\n",
       "  <tbody>\n",
       "    <tr>\n",
       "      <th>0</th>\n",
       "      <td>Trương Vĩnh Linh</td>\n",
       "      <td>1985-03-28</td>\n",
       "      <td>Việt Nam</td>\n",
       "      <td>984073163</td>\n",
       "      <td>0660283306</td>\n",
       "    </tr>\n",
       "    <tr>\n",
       "      <th>1</th>\n",
       "      <td>Nguyễn Hữu Tình</td>\n",
       "      <td>1992-10-12</td>\n",
       "      <td>Việt Nam</td>\n",
       "      <td>764550275</td>\n",
       "      <td>0393233223</td>\n",
       "    </tr>\n",
       "    <tr>\n",
       "      <th>2</th>\n",
       "      <td>Lê Trọng Ngọc</td>\n",
       "      <td>1992-03-03</td>\n",
       "      <td>Việt Nam</td>\n",
       "      <td>802805783</td>\n",
       "      <td>0365014560</td>\n",
       "    </tr>\n",
       "    <tr>\n",
       "      <th>3</th>\n",
       "      <td>Nguyễn Chí Kiên</td>\n",
       "      <td>1991-12-10</td>\n",
       "      <td>Việt Nam</td>\n",
       "      <td>667858887</td>\n",
       "      <td>0519166933</td>\n",
       "    </tr>\n",
       "    <tr>\n",
       "      <th>4</th>\n",
       "      <td>Đặng Quang Vinh</td>\n",
       "      <td>1982-07-12</td>\n",
       "      <td>Việt Nam</td>\n",
       "      <td>585844696</td>\n",
       "      <td>0153681259</td>\n",
       "    </tr>\n",
       "  </tbody>\n",
       "</table>\n",
       "</div>"
      ],
      "text/plain": [
       "               name date_of_birth nationality national_id insurance_id\n",
       "0  Trương Vĩnh Linh    1985-03-28    Việt Nam   984073163   0660283306\n",
       "1   Nguyễn Hữu Tình    1992-10-12    Việt Nam   764550275   0393233223\n",
       "2     Lê Trọng Ngọc    1992-03-03    Việt Nam   802805783   0365014560\n",
       "3   Nguyễn Chí Kiên    1991-12-10    Việt Nam   667858887   0519166933\n",
       "4   Đặng Quang Vinh    1982-07-12    Việt Nam   585844696   0153681259"
      ]
     },
     "execution_count": 4,
     "metadata": {},
     "output_type": "execute_result"
    }
   ],
   "source": [
    "employee = pd.read_csv('data/employee.csv', dtype={'national_id': str, 'insurance_id': str})\n",
    "employee.head()"
   ]
  },
  {
   "cell_type": "code",
   "execution_count": 5,
   "id": "1711e741",
   "metadata": {},
   "outputs": [],
   "source": [
    "# employee['date_of_birth'] = pd.to_datetime(employee['date_of_birth'])"
   ]
  },
  {
   "cell_type": "code",
   "execution_count": 6,
   "id": "b47a2fdd",
   "metadata": {},
   "outputs": [
    {
     "name": "stdout",
     "output_type": "stream",
     "text": [
      "<class 'pandas.core.frame.DataFrame'>\n",
      "RangeIndex: 171 entries, 0 to 170\n",
      "Data columns (total 5 columns):\n",
      " #   Column         Non-Null Count  Dtype \n",
      "---  ------         --------------  ----- \n",
      " 0   name           171 non-null    object\n",
      " 1   date_of_birth  171 non-null    object\n",
      " 2   nationality    171 non-null    object\n",
      " 3   national_id    171 non-null    object\n",
      " 4   insurance_id   171 non-null    object\n",
      "dtypes: object(5)\n",
      "memory usage: 6.8+ KB\n"
     ]
    }
   ],
   "source": [
    "employee.info()"
   ]
  },
  {
   "cell_type": "markdown",
   "id": "34104e5c",
   "metadata": {},
   "source": [
    "## Student"
   ]
  },
  {
   "cell_type": "code",
   "execution_count": 7,
   "id": "9ae6bb89",
   "metadata": {},
   "outputs": [
    {
     "data": {
      "text/html": [
       "<div>\n",
       "<style scoped>\n",
       "    .dataframe tbody tr th:only-of-type {\n",
       "        vertical-align: middle;\n",
       "    }\n",
       "\n",
       "    .dataframe tbody tr th {\n",
       "        vertical-align: top;\n",
       "    }\n",
       "\n",
       "    .dataframe thead th {\n",
       "        text-align: right;\n",
       "    }\n",
       "</style>\n",
       "<table border=\"1\" class=\"dataframe\">\n",
       "  <thead>\n",
       "    <tr style=\"text-align: right;\">\n",
       "      <th></th>\n",
       "      <th>mssv</th>\n",
       "      <th>student_name</th>\n",
       "      <th>class_name</th>\n",
       "      <th>edu_mail</th>\n",
       "      <th>national_id</th>\n",
       "      <th>address_id</th>\n",
       "    </tr>\n",
       "  </thead>\n",
       "  <tbody>\n",
       "    <tr>\n",
       "      <th>0</th>\n",
       "      <td>19333301</td>\n",
       "      <td>Nguyễn Thanh An</td>\n",
       "      <td>KHDL15A</td>\n",
       "      <td>an.19333301@student.iuh.edu.vn</td>\n",
       "      <td>712660055</td>\n",
       "      <td>21</td>\n",
       "    </tr>\n",
       "    <tr>\n",
       "      <th>1</th>\n",
       "      <td>19333311</td>\n",
       "      <td>Thái Nữ Bình An</td>\n",
       "      <td>HTTT15A</td>\n",
       "      <td>an.19333311@student.iuh.edu.vn</td>\n",
       "      <td>971121231</td>\n",
       "      <td>203</td>\n",
       "    </tr>\n",
       "    <tr>\n",
       "      <th>2</th>\n",
       "      <td>19333321</td>\n",
       "      <td>Trần Thị Mỹ An</td>\n",
       "      <td>HTTT15B</td>\n",
       "      <td>an.19333321@student.iuh.edu.vn</td>\n",
       "      <td>570468448</td>\n",
       "      <td>171</td>\n",
       "    </tr>\n",
       "    <tr>\n",
       "      <th>3</th>\n",
       "      <td>19333331</td>\n",
       "      <td>Bùi Thị Nguyên Anh</td>\n",
       "      <td>HTTT15A</td>\n",
       "      <td>anh.19333331@student.iuh.edu.vn</td>\n",
       "      <td>559000364</td>\n",
       "      <td>44</td>\n",
       "    </tr>\n",
       "    <tr>\n",
       "      <th>4</th>\n",
       "      <td>19333341</td>\n",
       "      <td>Châu Ngọc Thạch Anh</td>\n",
       "      <td>KTPM15B</td>\n",
       "      <td>anh.19333341@student.iuh.edu.vn</td>\n",
       "      <td>982742968</td>\n",
       "      <td>132</td>\n",
       "    </tr>\n",
       "  </tbody>\n",
       "</table>\n",
       "</div>"
      ],
      "text/plain": [
       "       mssv         student_name class_name                         edu_mail  \\\n",
       "0  19333301      Nguyễn Thanh An    KHDL15A   an.19333301@student.iuh.edu.vn   \n",
       "1  19333311      Thái Nữ Bình An    HTTT15A   an.19333311@student.iuh.edu.vn   \n",
       "2  19333321       Trần Thị Mỹ An    HTTT15B   an.19333321@student.iuh.edu.vn   \n",
       "3  19333331   Bùi Thị Nguyên Anh    HTTT15A  anh.19333331@student.iuh.edu.vn   \n",
       "4  19333341  Châu Ngọc Thạch Anh    KTPM15B  anh.19333341@student.iuh.edu.vn   \n",
       "\n",
       "  national_id  address_id  \n",
       "0   712660055          21  \n",
       "1   971121231         203  \n",
       "2   570468448         171  \n",
       "3   559000364          44  \n",
       "4   982742968         132  "
      ]
     },
     "execution_count": 7,
     "metadata": {},
     "output_type": "execute_result"
    }
   ],
   "source": [
    "student = pd.read_csv('data/student.csv', dtype={'mssv': str, 'national_id': str})\n",
    "student.head()"
   ]
  },
  {
   "cell_type": "code",
   "execution_count": 8,
   "id": "dfc67ae7",
   "metadata": {},
   "outputs": [
    {
     "name": "stdout",
     "output_type": "stream",
     "text": [
      "<class 'pandas.core.frame.DataFrame'>\n",
      "RangeIndex: 2161 entries, 0 to 2160\n",
      "Data columns (total 6 columns):\n",
      " #   Column        Non-Null Count  Dtype \n",
      "---  ------        --------------  ----- \n",
      " 0   mssv          2161 non-null   object\n",
      " 1   student_name  2161 non-null   object\n",
      " 2   class_name    2161 non-null   object\n",
      " 3   edu_mail      2161 non-null   object\n",
      " 4   national_id   2161 non-null   object\n",
      " 5   address_id    2161 non-null   int64 \n",
      "dtypes: int64(1), object(5)\n",
      "memory usage: 101.4+ KB\n"
     ]
    }
   ],
   "source": [
    "student.info()"
   ]
  },
  {
   "attachments": {},
   "cell_type": "markdown",
   "id": "a312b663",
   "metadata": {},
   "source": [
    "## Lecturer"
   ]
  },
  {
   "cell_type": "code",
   "execution_count": 9,
   "id": "1fdd98b6",
   "metadata": {},
   "outputs": [
    {
     "data": {
      "text/html": [
       "<div>\n",
       "<style scoped>\n",
       "    .dataframe tbody tr th:only-of-type {\n",
       "        vertical-align: middle;\n",
       "    }\n",
       "\n",
       "    .dataframe tbody tr th {\n",
       "        vertical-align: top;\n",
       "    }\n",
       "\n",
       "    .dataframe thead th {\n",
       "        text-align: right;\n",
       "    }\n",
       "</style>\n",
       "<table border=\"1\" class=\"dataframe\">\n",
       "  <thead>\n",
       "    <tr style=\"text-align: right;\">\n",
       "      <th></th>\n",
       "      <th>Lecturer ID</th>\n",
       "      <th>Employee ID</th>\n",
       "      <th>Academic Title</th>\n",
       "      <th>Academic Title Date</th>\n",
       "      <th>Degree</th>\n",
       "      <th>Degree Issue Date</th>\n",
       "      <th>Degree Issue Place</th>\n",
       "      <th>Major</th>\n",
       "      <th>Department</th>\n",
       "      <th>Number Of Exp</th>\n",
       "    </tr>\n",
       "  </thead>\n",
       "  <tbody>\n",
       "    <tr>\n",
       "      <th>0</th>\n",
       "      <td>1</td>\n",
       "      <td>1</td>\n",
       "      <td>Không</td>\n",
       "      <td>2015-03-31</td>\n",
       "      <td>Tiến sĩ</td>\n",
       "      <td>2015-03-31</td>\n",
       "      <td>Poland</td>\n",
       "      <td>Công nghệ thông tin</td>\n",
       "      <td>Khoa Công nghệ thông tin</td>\n",
       "      <td>5</td>\n",
       "    </tr>\n",
       "    <tr>\n",
       "      <th>1</th>\n",
       "      <td>2</td>\n",
       "      <td>2</td>\n",
       "      <td>Không</td>\n",
       "      <td>2015-02-05</td>\n",
       "      <td>Thạc sĩ</td>\n",
       "      <td>2015-02-05</td>\n",
       "      <td>Russia</td>\n",
       "      <td>Khoa học máy tính</td>\n",
       "      <td>Khoa Công nghệ thông tin</td>\n",
       "      <td>14</td>\n",
       "    </tr>\n",
       "    <tr>\n",
       "      <th>2</th>\n",
       "      <td>3</td>\n",
       "      <td>3</td>\n",
       "      <td>Không</td>\n",
       "      <td>2012-12-09</td>\n",
       "      <td>Tiến sĩ</td>\n",
       "      <td>2012-12-09</td>\n",
       "      <td>China</td>\n",
       "      <td>Hệ thống thông tin</td>\n",
       "      <td>Khoa Công nghệ thông tin</td>\n",
       "      <td>5</td>\n",
       "    </tr>\n",
       "    <tr>\n",
       "      <th>3</th>\n",
       "      <td>4</td>\n",
       "      <td>4</td>\n",
       "      <td>Không</td>\n",
       "      <td>2006-03-21</td>\n",
       "      <td>Thạc sĩ</td>\n",
       "      <td>2006-03-21</td>\n",
       "      <td>Russia</td>\n",
       "      <td>Khoa học máy tính</td>\n",
       "      <td>Khoa Công nghệ thông tin</td>\n",
       "      <td>1</td>\n",
       "    </tr>\n",
       "    <tr>\n",
       "      <th>4</th>\n",
       "      <td>5</td>\n",
       "      <td>5</td>\n",
       "      <td>Không</td>\n",
       "      <td>2014-07-16</td>\n",
       "      <td>Thạc sĩ</td>\n",
       "      <td>2014-07-16</td>\n",
       "      <td>Portugal</td>\n",
       "      <td>Công nghệ thông tin</td>\n",
       "      <td>Khoa Công nghệ thông tin</td>\n",
       "      <td>7</td>\n",
       "    </tr>\n",
       "  </tbody>\n",
       "</table>\n",
       "</div>"
      ],
      "text/plain": [
       "   Lecturer ID  Employee ID Academic Title Academic Title Date   Degree  \\\n",
       "0            1            1          Không          2015-03-31  Tiến sĩ   \n",
       "1            2            2          Không          2015-02-05  Thạc sĩ   \n",
       "2            3            3          Không          2012-12-09  Tiến sĩ   \n",
       "3            4            4          Không          2006-03-21  Thạc sĩ   \n",
       "4            5            5          Không          2014-07-16  Thạc sĩ   \n",
       "\n",
       "  Degree Issue Date Degree Issue Place                Major  \\\n",
       "0        2015-03-31             Poland  Công nghệ thông tin   \n",
       "1        2015-02-05             Russia    Khoa học máy tính   \n",
       "2        2012-12-09              China   Hệ thống thông tin   \n",
       "3        2006-03-21             Russia    Khoa học máy tính   \n",
       "4        2014-07-16           Portugal  Công nghệ thông tin   \n",
       "\n",
       "                 Department  Number Of Exp  \n",
       "0  Khoa Công nghệ thông tin              5  \n",
       "1  Khoa Công nghệ thông tin             14  \n",
       "2  Khoa Công nghệ thông tin              5  \n",
       "3  Khoa Công nghệ thông tin              1  \n",
       "4  Khoa Công nghệ thông tin              7  "
      ]
     },
     "execution_count": 9,
     "metadata": {},
     "output_type": "execute_result"
    }
   ],
   "source": [
    "lecturer = pd.read_csv('data/lecturer.csv')\n",
    "lecturer.head()"
   ]
  },
  {
   "cell_type": "code",
   "execution_count": 10,
   "id": "3a7f5c1e",
   "metadata": {},
   "outputs": [],
   "source": [
    "# lecturer['Academic Title Date'] = pd.to_datetime(lecturer['Academic Title Date'])\n",
    "# lecturer['Degree Issue Date'] = pd.to_datetime(lecturer['Degree Issue Date'])"
   ]
  },
  {
   "cell_type": "code",
   "execution_count": 11,
   "id": "43f73d6b",
   "metadata": {},
   "outputs": [
    {
     "name": "stdout",
     "output_type": "stream",
     "text": [
      "<class 'pandas.core.frame.DataFrame'>\n",
      "RangeIndex: 168 entries, 0 to 167\n",
      "Data columns (total 10 columns):\n",
      " #   Column               Non-Null Count  Dtype \n",
      "---  ------               --------------  ----- \n",
      " 0   Lecturer ID          168 non-null    int64 \n",
      " 1   Employee ID          168 non-null    int64 \n",
      " 2   Academic Title       168 non-null    object\n",
      " 3   Academic Title Date  168 non-null    object\n",
      " 4   Degree               168 non-null    object\n",
      " 5   Degree Issue Date    168 non-null    object\n",
      " 6   Degree Issue Place   168 non-null    object\n",
      " 7   Major                168 non-null    object\n",
      " 8   Department           168 non-null    object\n",
      " 9   Number Of Exp        168 non-null    int64 \n",
      "dtypes: int64(3), object(7)\n",
      "memory usage: 13.2+ KB\n"
     ]
    }
   ],
   "source": [
    "lecturer.info()"
   ]
  },
  {
   "attachments": {},
   "cell_type": "markdown",
   "id": "fee24f3d",
   "metadata": {},
   "source": [
    "## Course"
   ]
  },
  {
   "cell_type": "code",
   "execution_count": 12,
   "id": "a231bf44",
   "metadata": {},
   "outputs": [
    {
     "data": {
      "text/html": [
       "<div>\n",
       "<style scoped>\n",
       "    .dataframe tbody tr th:only-of-type {\n",
       "        vertical-align: middle;\n",
       "    }\n",
       "\n",
       "    .dataframe tbody tr th {\n",
       "        vertical-align: top;\n",
       "    }\n",
       "\n",
       "    .dataframe thead th {\n",
       "        text-align: right;\n",
       "    }\n",
       "</style>\n",
       "<table border=\"1\" class=\"dataframe\">\n",
       "  <thead>\n",
       "    <tr style=\"text-align: right;\">\n",
       "      <th></th>\n",
       "      <th>lecturer_in_charge_id</th>\n",
       "      <th>course_name</th>\n",
       "      <th>total_credit</th>\n",
       "      <th>theory_credit</th>\n",
       "      <th>practice_credit</th>\n",
       "      <th>self_learning_credit</th>\n",
       "    </tr>\n",
       "  </thead>\n",
       "  <tbody>\n",
       "    <tr>\n",
       "      <th>0</th>\n",
       "      <td>48</td>\n",
       "      <td>Toán cao cấp 1</td>\n",
       "      <td>3</td>\n",
       "      <td>3</td>\n",
       "      <td>0</td>\n",
       "      <td>4</td>\n",
       "    </tr>\n",
       "    <tr>\n",
       "      <th>1</th>\n",
       "      <td>57</td>\n",
       "      <td>Giáo dục thể chất 1</td>\n",
       "      <td>5</td>\n",
       "      <td>3</td>\n",
       "      <td>2</td>\n",
       "      <td>5</td>\n",
       "    </tr>\n",
       "    <tr>\n",
       "      <th>2</th>\n",
       "      <td>65</td>\n",
       "      <td>Giáo dục Quốc phòng và An ninh 1</td>\n",
       "      <td>3</td>\n",
       "      <td>1</td>\n",
       "      <td>2</td>\n",
       "      <td>3</td>\n",
       "    </tr>\n",
       "    <tr>\n",
       "      <th>3</th>\n",
       "      <td>12</td>\n",
       "      <td>Nhập môn Tin học</td>\n",
       "      <td>3</td>\n",
       "      <td>3</td>\n",
       "      <td>0</td>\n",
       "      <td>3</td>\n",
       "    </tr>\n",
       "    <tr>\n",
       "      <th>4</th>\n",
       "      <td>21</td>\n",
       "      <td>Nhập môn Lập trình</td>\n",
       "      <td>4</td>\n",
       "      <td>0</td>\n",
       "      <td>4</td>\n",
       "      <td>5</td>\n",
       "    </tr>\n",
       "  </tbody>\n",
       "</table>\n",
       "</div>"
      ],
      "text/plain": [
       "   lecturer_in_charge_id                       course_name  total_credit  \\\n",
       "0                     48                    Toán cao cấp 1             3   \n",
       "1                     57               Giáo dục thể chất 1             5   \n",
       "2                     65  Giáo dục Quốc phòng và An ninh 1             3   \n",
       "3                     12                  Nhập môn Tin học             3   \n",
       "4                     21                Nhập môn Lập trình             4   \n",
       "\n",
       "   theory_credit  practice_credit  self_learning_credit  \n",
       "0              3                0                     4  \n",
       "1              3                2                     5  \n",
       "2              1                2                     3  \n",
       "3              3                0                     3  \n",
       "4              0                4                     5  "
      ]
     },
     "execution_count": 12,
     "metadata": {},
     "output_type": "execute_result"
    }
   ],
   "source": [
    "course = pd.read_csv('data/course.csv')\n",
    "course.head()"
   ]
  },
  {
   "cell_type": "code",
   "execution_count": 13,
   "id": "7b0cdc62",
   "metadata": {},
   "outputs": [
    {
     "name": "stdout",
     "output_type": "stream",
     "text": [
      "<class 'pandas.core.frame.DataFrame'>\n",
      "RangeIndex: 80 entries, 0 to 79\n",
      "Data columns (total 6 columns):\n",
      " #   Column                 Non-Null Count  Dtype \n",
      "---  ------                 --------------  ----- \n",
      " 0   lecturer_in_charge_id  80 non-null     int64 \n",
      " 1   course_name            80 non-null     object\n",
      " 2   total_credit           80 non-null     int64 \n",
      " 3   theory_credit          80 non-null     int64 \n",
      " 4   practice_credit        80 non-null     int64 \n",
      " 5   self_learning_credit   80 non-null     int64 \n",
      "dtypes: int64(5), object(1)\n",
      "memory usage: 3.9+ KB\n"
     ]
    }
   ],
   "source": [
    "course.info()"
   ]
  },
  {
   "attachments": {},
   "cell_type": "markdown",
   "id": "56b4802b",
   "metadata": {},
   "source": [
    "## Programs"
   ]
  },
  {
   "cell_type": "code",
   "execution_count": 14,
   "id": "f5af0860",
   "metadata": {},
   "outputs": [
    {
     "data": {
      "text/html": [
       "<div>\n",
       "<style scoped>\n",
       "    .dataframe tbody tr th:only-of-type {\n",
       "        vertical-align: middle;\n",
       "    }\n",
       "\n",
       "    .dataframe tbody tr th {\n",
       "        vertical-align: top;\n",
       "    }\n",
       "\n",
       "    .dataframe thead th {\n",
       "        text-align: right;\n",
       "    }\n",
       "</style>\n",
       "<table border=\"1\" class=\"dataframe\">\n",
       "  <thead>\n",
       "    <tr style=\"text-align: right;\">\n",
       "      <th></th>\n",
       "      <th>class_of</th>\n",
       "      <th>program_semester</th>\n",
       "      <th>abc_of</th>\n",
       "    </tr>\n",
       "  </thead>\n",
       "  <tbody>\n",
       "    <tr>\n",
       "      <th>0</th>\n",
       "      <td>2019-2023</td>\n",
       "      <td>1</td>\n",
       "      <td>a</td>\n",
       "    </tr>\n",
       "    <tr>\n",
       "      <th>1</th>\n",
       "      <td>2019-2023</td>\n",
       "      <td>2</td>\n",
       "      <td>a</td>\n",
       "    </tr>\n",
       "    <tr>\n",
       "      <th>2</th>\n",
       "      <td>2019-2023</td>\n",
       "      <td>3</td>\n",
       "      <td>a</td>\n",
       "    </tr>\n",
       "    <tr>\n",
       "      <th>3</th>\n",
       "      <td>2019-2023</td>\n",
       "      <td>4</td>\n",
       "      <td>a</td>\n",
       "    </tr>\n",
       "    <tr>\n",
       "      <th>4</th>\n",
       "      <td>2019-2023</td>\n",
       "      <td>5</td>\n",
       "      <td>a</td>\n",
       "    </tr>\n",
       "  </tbody>\n",
       "</table>\n",
       "</div>"
      ],
      "text/plain": [
       "    class_of  program_semester abc_of\n",
       "0  2019-2023                 1      a\n",
       "1  2019-2023                 2      a\n",
       "2  2019-2023                 3      a\n",
       "3  2019-2023                 4      a\n",
       "4  2019-2023                 5      a"
      ]
     },
     "execution_count": 14,
     "metadata": {},
     "output_type": "execute_result"
    }
   ],
   "source": [
    "program = pd.read_csv('data/program.csv')\n",
    "program.head()"
   ]
  },
  {
   "cell_type": "code",
   "execution_count": 15,
   "id": "1431c218",
   "metadata": {},
   "outputs": [
    {
     "name": "stdout",
     "output_type": "stream",
     "text": [
      "<class 'pandas.core.frame.DataFrame'>\n",
      "RangeIndex: 48 entries, 0 to 47\n",
      "Data columns (total 3 columns):\n",
      " #   Column            Non-Null Count  Dtype \n",
      "---  ------            --------------  ----- \n",
      " 0   class_of          48 non-null     object\n",
      " 1   program_semester  48 non-null     int64 \n",
      " 2   abc_of            48 non-null     object\n",
      "dtypes: int64(1), object(2)\n",
      "memory usage: 1.2+ KB\n"
     ]
    }
   ],
   "source": [
    "program.info()"
   ]
  },
  {
   "attachments": {},
   "cell_type": "markdown",
   "id": "49d70d0f",
   "metadata": {},
   "source": [
    "## Teaching"
   ]
  },
  {
   "cell_type": "code",
   "execution_count": 16,
   "id": "9d9a1b1e",
   "metadata": {},
   "outputs": [
    {
     "data": {
      "text/html": [
       "<div>\n",
       "<style scoped>\n",
       "    .dataframe tbody tr th:only-of-type {\n",
       "        vertical-align: middle;\n",
       "    }\n",
       "\n",
       "    .dataframe tbody tr th {\n",
       "        vertical-align: top;\n",
       "    }\n",
       "\n",
       "    .dataframe thead th {\n",
       "        text-align: right;\n",
       "    }\n",
       "</style>\n",
       "<table border=\"1\" class=\"dataframe\">\n",
       "  <thead>\n",
       "    <tr style=\"text-align: right;\">\n",
       "      <th></th>\n",
       "      <th>course_id</th>\n",
       "      <th>program_id</th>\n",
       "    </tr>\n",
       "  </thead>\n",
       "  <tbody>\n",
       "    <tr>\n",
       "      <th>0</th>\n",
       "      <td>1</td>\n",
       "      <td>1</td>\n",
       "    </tr>\n",
       "    <tr>\n",
       "      <th>1</th>\n",
       "      <td>1</td>\n",
       "      <td>9</td>\n",
       "    </tr>\n",
       "    <tr>\n",
       "      <th>2</th>\n",
       "      <td>1</td>\n",
       "      <td>17</td>\n",
       "    </tr>\n",
       "    <tr>\n",
       "      <th>3</th>\n",
       "      <td>1</td>\n",
       "      <td>25</td>\n",
       "    </tr>\n",
       "    <tr>\n",
       "      <th>4</th>\n",
       "      <td>1</td>\n",
       "      <td>33</td>\n",
       "    </tr>\n",
       "  </tbody>\n",
       "</table>\n",
       "</div>"
      ],
      "text/plain": [
       "   course_id  program_id\n",
       "0          1           1\n",
       "1          1           9\n",
       "2          1          17\n",
       "3          1          25\n",
       "4          1          33"
      ]
     },
     "execution_count": 16,
     "metadata": {},
     "output_type": "execute_result"
    }
   ],
   "source": [
    "teaching = pd.read_csv('data/teaching.csv')\n",
    "teaching.head()"
   ]
  },
  {
   "cell_type": "code",
   "execution_count": 17,
   "id": "1089712e",
   "metadata": {},
   "outputs": [
    {
     "name": "stdout",
     "output_type": "stream",
     "text": [
      "<class 'pandas.core.frame.DataFrame'>\n",
      "RangeIndex: 480 entries, 0 to 479\n",
      "Data columns (total 2 columns):\n",
      " #   Column      Non-Null Count  Dtype\n",
      "---  ------      --------------  -----\n",
      " 0   course_id   480 non-null    int64\n",
      " 1   program_id  480 non-null    int64\n",
      "dtypes: int64(2)\n",
      "memory usage: 7.6 KB\n"
     ]
    }
   ],
   "source": [
    "teaching.info()"
   ]
  },
  {
   "attachments": {},
   "cell_type": "markdown",
   "id": "8180ba10",
   "metadata": {},
   "source": [
    "## Course_offering"
   ]
  },
  {
   "cell_type": "code",
   "execution_count": 18,
   "id": "58ba9305",
   "metadata": {},
   "outputs": [
    {
     "data": {
      "text/html": [
       "<div>\n",
       "<style scoped>\n",
       "    .dataframe tbody tr th:only-of-type {\n",
       "        vertical-align: middle;\n",
       "    }\n",
       "\n",
       "    .dataframe tbody tr th {\n",
       "        vertical-align: top;\n",
       "    }\n",
       "\n",
       "    .dataframe thead th {\n",
       "        text-align: right;\n",
       "    }\n",
       "</style>\n",
       "<table border=\"1\" class=\"dataframe\">\n",
       "  <thead>\n",
       "    <tr style=\"text-align: right;\">\n",
       "      <th></th>\n",
       "      <th>lecturer_id</th>\n",
       "      <th>course_id</th>\n",
       "      <th>lecturer_type</th>\n",
       "    </tr>\n",
       "  </thead>\n",
       "  <tbody>\n",
       "    <tr>\n",
       "      <th>0</th>\n",
       "      <td>1</td>\n",
       "      <td>48</td>\n",
       "      <td>theoretical</td>\n",
       "    </tr>\n",
       "    <tr>\n",
       "      <th>1</th>\n",
       "      <td>1</td>\n",
       "      <td>48</td>\n",
       "      <td>practical</td>\n",
       "    </tr>\n",
       "    <tr>\n",
       "      <th>2</th>\n",
       "      <td>1</td>\n",
       "      <td>65</td>\n",
       "      <td>theoretical</td>\n",
       "    </tr>\n",
       "    <tr>\n",
       "      <th>3</th>\n",
       "      <td>1</td>\n",
       "      <td>65</td>\n",
       "      <td>practical</td>\n",
       "    </tr>\n",
       "    <tr>\n",
       "      <th>4</th>\n",
       "      <td>1</td>\n",
       "      <td>10</td>\n",
       "      <td>theoretical</td>\n",
       "    </tr>\n",
       "  </tbody>\n",
       "</table>\n",
       "</div>"
      ],
      "text/plain": [
       "   lecturer_id  course_id lecturer_type\n",
       "0            1         48   theoretical\n",
       "1            1         48     practical\n",
       "2            1         65   theoretical\n",
       "3            1         65     practical\n",
       "4            1         10   theoretical"
      ]
     },
     "execution_count": 18,
     "metadata": {},
     "output_type": "execute_result"
    }
   ],
   "source": [
    "course_offering = pd.read_csv('data/course_offering.csv')\n",
    "course_offering.head()"
   ]
  },
  {
   "cell_type": "code",
   "execution_count": 19,
   "id": "68a20a71",
   "metadata": {},
   "outputs": [
    {
     "name": "stdout",
     "output_type": "stream",
     "text": [
      "<class 'pandas.core.frame.DataFrame'>\n",
      "RangeIndex: 1606 entries, 0 to 1605\n",
      "Data columns (total 3 columns):\n",
      " #   Column         Non-Null Count  Dtype \n",
      "---  ------         --------------  ----- \n",
      " 0   lecturer_id    1606 non-null   int64 \n",
      " 1   course_id      1606 non-null   int64 \n",
      " 2   lecturer_type  1606 non-null   object\n",
      "dtypes: int64(2), object(1)\n",
      "memory usage: 37.8+ KB\n"
     ]
    }
   ],
   "source": [
    "course_offering.info()"
   ]
  },
  {
   "attachments": {},
   "cell_type": "markdown",
   "id": "44d5fb5d",
   "metadata": {},
   "source": [
    "## Score"
   ]
  },
  {
   "cell_type": "code",
   "execution_count": 20,
   "id": "66c14d8e-ea1d-4185-aecc-8756d97ac6e2",
   "metadata": {},
   "outputs": [
    {
     "data": {
      "text/html": [
       "<div>\n",
       "<style scoped>\n",
       "    .dataframe tbody tr th:only-of-type {\n",
       "        vertical-align: middle;\n",
       "    }\n",
       "\n",
       "    .dataframe tbody tr th {\n",
       "        vertical-align: top;\n",
       "    }\n",
       "\n",
       "    .dataframe thead th {\n",
       "        text-align: right;\n",
       "    }\n",
       "</style>\n",
       "<table border=\"1\" class=\"dataframe\">\n",
       "  <thead>\n",
       "    <tr style=\"text-align: right;\">\n",
       "      <th></th>\n",
       "      <th>student_id</th>\n",
       "      <th>offering_id</th>\n",
       "      <th>score</th>\n",
       "      <th>score_type</th>\n",
       "    </tr>\n",
       "  </thead>\n",
       "  <tbody>\n",
       "    <tr>\n",
       "      <th>0</th>\n",
       "      <td>19333301</td>\n",
       "      <td>163</td>\n",
       "      <td>6.0</td>\n",
       "      <td>tk_1</td>\n",
       "    </tr>\n",
       "    <tr>\n",
       "      <th>1</th>\n",
       "      <td>19333301</td>\n",
       "      <td>163</td>\n",
       "      <td>5.5</td>\n",
       "      <td>tk_2</td>\n",
       "    </tr>\n",
       "    <tr>\n",
       "      <th>2</th>\n",
       "      <td>19333301</td>\n",
       "      <td>163</td>\n",
       "      <td>9.5</td>\n",
       "      <td>tk_3</td>\n",
       "    </tr>\n",
       "    <tr>\n",
       "      <th>3</th>\n",
       "      <td>19333301</td>\n",
       "      <td>163</td>\n",
       "      <td>5.0</td>\n",
       "      <td>gk</td>\n",
       "    </tr>\n",
       "    <tr>\n",
       "      <th>4</th>\n",
       "      <td>19333301</td>\n",
       "      <td>163</td>\n",
       "      <td>3.0</td>\n",
       "      <td>ck</td>\n",
       "    </tr>\n",
       "  </tbody>\n",
       "</table>\n",
       "</div>"
      ],
      "text/plain": [
       "  student_id  offering_id  score score_type\n",
       "0   19333301          163    6.0       tk_1\n",
       "1   19333301          163    5.5       tk_2\n",
       "2   19333301          163    9.5       tk_3\n",
       "3   19333301          163    5.0         gk\n",
       "4   19333301          163    3.0         ck"
      ]
     },
     "execution_count": 20,
     "metadata": {},
     "output_type": "execute_result"
    }
   ],
   "source": [
    "score = pd.read_csv('data/score.csv', dtype={'student_id': str})\n",
    "score.head()"
   ]
  },
  {
   "cell_type": "code",
   "execution_count": 21,
   "id": "22b29bf0",
   "metadata": {},
   "outputs": [
    {
     "name": "stdout",
     "output_type": "stream",
     "text": [
      "<class 'pandas.core.frame.DataFrame'>\n",
      "RangeIndex: 479858 entries, 0 to 479857\n",
      "Data columns (total 4 columns):\n",
      " #   Column       Non-Null Count   Dtype  \n",
      "---  ------       --------------   -----  \n",
      " 0   student_id   479858 non-null  object \n",
      " 1   offering_id  479858 non-null  int64  \n",
      " 2   score        479858 non-null  float64\n",
      " 3   score_type   479858 non-null  object \n",
      "dtypes: float64(1), int64(1), object(2)\n",
      "memory usage: 14.6+ MB\n"
     ]
    }
   ],
   "source": [
    "score.info()"
   ]
  },
  {
   "cell_type": "markdown",
   "id": "e9559462-3676-477e-96d4-519c82232173",
   "metadata": {},
   "source": [
    "**address -> employee -> student -> lecturer -> course -> program -> teaching -> course_offering -> score**"
   ]
  },
  {
   "cell_type": "code",
   "execution_count": 22,
   "id": "801660a3-0a9d-4d92-96fc-a474bc65b41e",
   "metadata": {},
   "outputs": [],
   "source": [
    "def insert_row(table, data):\n",
    "    return f'INSERT INTO {table} VALUES{tuple(data)};'"
   ]
  },
  {
   "cell_type": "code",
   "execution_count": 23,
   "id": "3c7f6729-5a8f-4039-97f2-d0cd32c483d5",
   "metadata": {},
   "outputs": [],
   "source": [
    "sql = []\n",
    "\n",
    "# address\n",
    "for idx, (_, row) in enumerate(address.iterrows(), start=1):\n",
    "    data = [idx] + row.values.tolist()\n",
    "    sql.append(insert_row('address', data))\n",
    "\n",
    "# employee\n",
    "for idx, (_, row) in enumerate(employee.iterrows(), start=1):\n",
    "    data = [idx] + row.values.tolist()\n",
    "    sql.append(insert_row('employee', data))\n",
    "\n",
    "# student\n",
    "# Không cần thêm idx làm id\n",
    "for _, row in student.iterrows():\n",
    "    data = row.values.tolist()\n",
    "    sql.append(insert_row('student', data))\n",
    "\n",
    "# lecturer\n",
    "# Không cần thêm idx làm id\n",
    "for _, row in lecturer.iterrows():\n",
    "    data = row.values.tolist()\n",
    "    sql.append(insert_row('lecturer', data))\n",
    "\n",
    "# course\n",
    "for idx, (_, row) in enumerate(course.iterrows(), start=1):\n",
    "    data = [idx] + row.values.tolist()\n",
    "    sql.append(insert_row('course', data))\n",
    "\n",
    "# program\n",
    "for idx, (_, row) in enumerate(program.iterrows(), start=1):\n",
    "    data = [idx] + row.values.tolist()\n",
    "    sql.append(insert_row('program', data))\n",
    "\n",
    "# teaching\n",
    "for idx, (_, row) in enumerate(teaching.iterrows(), start=1):\n",
    "    data = [idx] + row.values.tolist()\n",
    "    sql.append(insert_row('teaching', data))\n",
    "\n",
    "# course_offering\n",
    "for idx, (_, row) in enumerate(course_offering.iterrows(), start=1):\n",
    "    data = [idx] + row.values.tolist()\n",
    "    sql.append(insert_row('course_offering', data))\n",
    "\n",
    "# score\n",
    "for idx, (_, row) in enumerate(score.iterrows(), start=1):\n",
    "    data = [idx] + row.values.tolist()\n",
    "    sql.append(insert_row('score', data))"
   ]
  },
  {
   "cell_type": "code",
   "execution_count": 24,
   "id": "9e9809ca-1bf5-4e26-aaba-fe3ddf2ca1bc",
   "metadata": {},
   "outputs": [
    {
     "data": {
      "text/plain": [
       "484894"
      ]
     },
     "execution_count": 24,
     "metadata": {},
     "output_type": "execute_result"
    }
   ],
   "source": [
    "len(sql)"
   ]
  },
  {
   "cell_type": "code",
   "execution_count": 25,
   "id": "48b314ba-a83e-4357-8e41-30757e1a578f",
   "metadata": {},
   "outputs": [],
   "source": [
    "with open('sql/insert_db.sql', 'w', encoding='utf-8') as f:\n",
    "    f.write('\\n'.join(sql))"
   ]
  }
 ],
 "metadata": {
  "kernelspec": {
   "display_name": "base",
   "language": "python",
   "name": "python3"
  },
  "language_info": {
   "codemirror_mode": {
    "name": "ipython",
    "version": 3
   },
   "file_extension": ".py",
   "mimetype": "text/x-python",
   "name": "python",
   "nbconvert_exporter": "python",
   "pygments_lexer": "ipython3",
   "version": "3.9.13"
  },
  "vscode": {
   "interpreter": {
    "hash": "f4a3e27c0ad9ffa4d52659be53eb1e1ac285998077df638597a9f56a02c65f2e"
   }
  }
 },
 "nbformat": 4,
 "nbformat_minor": 5
}
